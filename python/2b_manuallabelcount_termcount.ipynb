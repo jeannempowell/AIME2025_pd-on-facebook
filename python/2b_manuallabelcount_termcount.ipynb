{
 "cells": [
  {
   "cell_type": "code",
   "execution_count": 3,
   "metadata": {},
   "outputs": [],
   "source": [
    "from functions import pull_redcap_report\n",
    "from constants import posts_token, flagged_posts, participants_token, participants_table1\n",
    "import pandas as pd\n",
    "\n",
    "posts = pull_redcap_report(posts_token, flagged_posts)\n",
    "participants = pull_redcap_report(participants_token, participants_table1)\n",
    "\n",
    "participants['participant_id'] = participants['record_id']\n",
    "\n",
    "# Merge the dob column into the posts DataFrame based on the matching IDs\n",
    "posts = posts.merge(\n",
    "    participants[['participant_id', 'gender', 'pd_yesno', 'diagnosis_date']],  # Select only relevant columns from participants\n",
    "    on='participant_id',  # Column in posts to match    # Column in participants to match\n",
    "    how='left'                 # Use 'left' join to keep all rows from posts\n",
    ")\n"
   ]
  },
  {
   "cell_type": "markdown",
   "metadata": {},
   "source": [
    "# Ground Truth Dataset"
   ]
  },
  {
   "cell_type": "code",
   "execution_count": 4,
   "metadata": {},
   "outputs": [
    {
     "name": "stdout",
     "output_type": "stream",
     "text": [
      "Manually reviewed posts: 6750\n",
      "Number of participants: 19\n",
      "Number of unique participants with pd_yesno = 1: 14\n",
      "Number of unique participants with pd_yesno = 0: 5\n",
      "Number of PD-relevant posts in ground-truth dataset: 2400\n"
     ]
    }
   ],
   "source": [
    "training_posts = posts[~pd.isna(posts['manual_label_pd_relevant'])]\n",
    "print(f'Manually reviewed posts: {len(training_posts)}')\n",
    "num_unique_participants = training_posts['participant_id'].nunique()\n",
    "print(f'Number of participants: {num_unique_participants}')\n",
    "\n",
    "# Count unique participant IDs where pd_yesno is 1\n",
    "num_unique_pd_yes = training_posts.loc[training_posts['pd_yesno'] == 1, 'participant_id'].nunique()\n",
    "\n",
    "# Count unique participant IDs where pd_yesno is 0\n",
    "num_unique_pd_no = training_posts.loc[training_posts['pd_yesno'] == 0, 'participant_id'].nunique()\n",
    "\n",
    "print(f\"Number of unique participants with pd_yesno = 1: {num_unique_pd_yes}\")\n",
    "print(f\"Number of unique participants with pd_yesno = 0: {num_unique_pd_no}\")\n",
    "print(f\"Number of PD-relevant posts in ground-truth dataset: {(training_posts['manual_label_pd_relevant'] == 1).sum()}\")"
   ]
  },
  {
   "cell_type": "markdown",
   "metadata": {},
   "source": [
    "# Term Dictionary"
   ]
  },
  {
   "cell_type": "code",
   "execution_count": 6,
   "metadata": {},
   "outputs": [
    {
     "name": "stdout",
     "output_type": "stream",
     "text": [
      "Number of keys: 52\n",
      "Total number of keyword entries: 1153\n"
     ]
    }
   ],
   "source": [
    "import json\n",
    "\n",
    "# Load the JSON file\n",
    "with open(\"../term_dictionary/term_dictionary.json\", \"r\") as file:\n",
    "    keyword_dict = json.load(file)\n",
    "\n",
    "# Count the number of keys\n",
    "num_keys = len(keyword_dict)\n",
    "\n",
    "# Count the total number of entries across all keys\n",
    "num_entries = sum(len(values) for values in keyword_dict.values())\n",
    "\n",
    "print(f\"Number of keys: {num_keys}\")\n",
    "print(f\"Total number of keyword entries: {num_entries}\")"
   ]
  }
 ],
 "metadata": {
  "kernelspec": {
   "display_name": "pdfb",
   "language": "python",
   "name": "python3"
  },
  "language_info": {
   "codemirror_mode": {
    "name": "ipython",
    "version": 3
   },
   "file_extension": ".py",
   "mimetype": "text/x-python",
   "name": "python",
   "nbconvert_exporter": "python",
   "pygments_lexer": "ipython3",
   "version": "3.10.13"
  }
 },
 "nbformat": 4,
 "nbformat_minor": 2
}
