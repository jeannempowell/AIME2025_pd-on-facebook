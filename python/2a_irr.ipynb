{
 "cells": [
  {
   "cell_type": "code",
   "execution_count": 3,
   "metadata": {},
   "outputs": [
    {
     "name": "stdout",
     "output_type": "stream",
     "text": [
      "Cohen's Kappa: 0.7874805499235469\n"
     ]
    }
   ],
   "source": [
    "from constants import posts_token, train_test_data\n",
    "from functions import pull_redcap_report\n",
    "import pandas as pd\n",
    "from sklearn.metrics import cohen_kappa_score\n",
    "\n",
    "df = pull_redcap_report(posts_token, train_test_data)\n",
    "kappa = cohen_kappa_score(df['reviewer_1_pd_relevant'], df['reviewer_2_pd_relevant'])\n",
    "\n",
    "print(f\"Cohen's Kappa: {kappa}\")"
   ]
  }
 ],
 "metadata": {
  "kernelspec": {
   "display_name": "pdfb",
   "language": "python",
   "name": "python3"
  },
  "language_info": {
   "codemirror_mode": {
    "name": "ipython",
    "version": 3
   },
   "file_extension": ".py",
   "mimetype": "text/x-python",
   "name": "python",
   "nbconvert_exporter": "python",
   "pygments_lexer": "ipython3",
   "version": "3.10.13"
  }
 },
 "nbformat": 4,
 "nbformat_minor": 2
}
