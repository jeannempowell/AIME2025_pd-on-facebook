{
 "cells": [
  {
   "cell_type": "code",
   "execution_count": 7,
   "metadata": {},
   "outputs": [],
   "source": [
    "from constants import posts_token, flagged_posts, participants_token, participants_table1\n",
    "from functions import pull_redcap_report, get_age_at_post\n",
    "\n",
    "posts = pull_redcap_report(posts_token, flagged_posts)\n",
    "participants = pull_redcap_report(participants_token, participants_table1)\n",
    "posts = get_age_at_post(posts, participants)"
   ]
  },
  {
   "cell_type": "code",
   "execution_count": 8,
   "metadata": {},
   "outputs": [],
   "source": [
    "# Text Processing\n",
    "import nltk\n",
    "from nltk.stem import WordNetLemmatizer\n",
    "# Check if \"wordnet\" is available before downloading\n",
    "try:\n",
    "    from nltk.corpus import wordnet\n",
    "except:\n",
    "    nltk.download(\"wordnet\")\n",
    "    from nltk.corpus import wordnet\n",
    "from functions import tokenize_and_remove_stopwords, clean_text, get_cluster_features\n",
    "lemmatizer = WordNetLemmatizer()\n",
    "\n",
    "posts['clean_text'] = posts['text'].apply(clean_text)\n",
    "posts['tokenized_text'] = posts['clean_text'].apply(tokenize_and_remove_stopwords)\n",
    "posts['lemma'] = posts['tokenized_text'].apply(lambda text: \" \".join([lemmatizer.lemmatize(word) for word in text.split()]))\n",
    "\n",
    "\n",
    "posts[\"text_cluster\"] = posts['clean_text'].apply(get_cluster_features)"
   ]
  },
  {
   "cell_type": "code",
   "execution_count": 9,
   "metadata": {},
   "outputs": [],
   "source": [
    "import joblib\n",
    "from scipy.sparse import hstack\n",
    "\n",
    "# Load vectorizers\n",
    "lemma_vectorizer = joblib.load(\"../classifiers-2-2-25/lemma_vectorizer.joblib\")\n",
    "cluster_vectorizer = joblib.load(\"../classifiers-2-2-25/cluster_vectorizer.joblib\")\n",
    "\n",
    "X_cluster = cluster_vectorizer.transform(posts['text_cluster'])\n",
    "X_lemma = lemma_vectorizer.transform(posts['lemma'])\n",
    "\n",
    "# Load Scaler\n",
    "scaler = joblib.load(\"../classifiers-2-2-25/scaler.joblib\")\n",
    "X_age = scaler.transform(posts[['age_at_post']])\n",
    "\n",
    "# Load encoder\n",
    "encoder = joblib.load(\"../classifiers-2-2-25/encoder.joblib\")\n",
    "X_cat = encoder.transform(posts[['gender', 'pd_yesno']])\n",
    "\n",
    "# Stack all features together\n",
    "X = hstack([X_cluster, X_lemma, X_age, X_cat])"
   ]
  },
  {
   "cell_type": "code",
   "execution_count": 10,
   "metadata": {},
   "outputs": [],
   "source": [
    "nb = joblib.load(\"../classifiers-2-2-25/NaiveBayes_best_model.joblib\")\n",
    "# Predict `y` using the ensemble model\n",
    "y_pred = nb.predict(X)\n",
    "\n",
    "# Add predictions to the dataframe\n",
    "posts['nb_classification'] = y_pred\n"
   ]
  },
  {
   "cell_type": "code",
   "execution_count": 11,
   "metadata": {},
   "outputs": [
    {
     "data": {
      "text/html": [
       "<div>\n",
       "<style scoped>\n",
       "    .dataframe tbody tr th:only-of-type {\n",
       "        vertical-align: middle;\n",
       "    }\n",
       "\n",
       "    .dataframe tbody tr th {\n",
       "        vertical-align: top;\n",
       "    }\n",
       "\n",
       "    .dataframe thead th {\n",
       "        text-align: right;\n",
       "    }\n",
       "</style>\n",
       "<table border=\"1\" class=\"dataframe\">\n",
       "  <thead>\n",
       "    <tr style=\"text-align: right;\">\n",
       "      <th></th>\n",
       "      <th>record_id</th>\n",
       "      <th>nb_classification</th>\n",
       "    </tr>\n",
       "  </thead>\n",
       "  <tbody>\n",
       "    <tr>\n",
       "      <th>0</th>\n",
       "      <td>62</td>\n",
       "      <td>0</td>\n",
       "    </tr>\n",
       "    <tr>\n",
       "      <th>1</th>\n",
       "      <td>79</td>\n",
       "      <td>0</td>\n",
       "    </tr>\n",
       "    <tr>\n",
       "      <th>2</th>\n",
       "      <td>80</td>\n",
       "      <td>0</td>\n",
       "    </tr>\n",
       "    <tr>\n",
       "      <th>3</th>\n",
       "      <td>82</td>\n",
       "      <td>0</td>\n",
       "    </tr>\n",
       "    <tr>\n",
       "      <th>4</th>\n",
       "      <td>84</td>\n",
       "      <td>0</td>\n",
       "    </tr>\n",
       "    <tr>\n",
       "      <th>...</th>\n",
       "      <td>...</td>\n",
       "      <td>...</td>\n",
       "    </tr>\n",
       "    <tr>\n",
       "      <th>22876</th>\n",
       "      <td>201967</td>\n",
       "      <td>0</td>\n",
       "    </tr>\n",
       "    <tr>\n",
       "      <th>22877</th>\n",
       "      <td>201969</td>\n",
       "      <td>0</td>\n",
       "    </tr>\n",
       "    <tr>\n",
       "      <th>22878</th>\n",
       "      <td>201971</td>\n",
       "      <td>0</td>\n",
       "    </tr>\n",
       "    <tr>\n",
       "      <th>22879</th>\n",
       "      <td>201998</td>\n",
       "      <td>0</td>\n",
       "    </tr>\n",
       "    <tr>\n",
       "      <th>22880</th>\n",
       "      <td>202007</td>\n",
       "      <td>0</td>\n",
       "    </tr>\n",
       "  </tbody>\n",
       "</table>\n",
       "<p>22881 rows × 2 columns</p>\n",
       "</div>"
      ],
      "text/plain": [
       "       record_id  nb_classification\n",
       "0             62                  0\n",
       "1             79                  0\n",
       "2             80                  0\n",
       "3             82                  0\n",
       "4             84                  0\n",
       "...          ...                ...\n",
       "22876     201967                  0\n",
       "22877     201969                  0\n",
       "22878     201971                  0\n",
       "22879     201998                  0\n",
       "22880     202007                  0\n",
       "\n",
       "[22881 rows x 2 columns]"
      ]
     },
     "execution_count": 11,
     "metadata": {},
     "output_type": "execute_result"
    }
   ],
   "source": [
    "import_df = posts[\n",
    "    ['record_id', \n",
    "     'nb_classification']]\n",
    "\n",
    "import_df"
   ]
  },
  {
   "cell_type": "code",
   "execution_count": 12,
   "metadata": {},
   "outputs": [
    {
     "name": "stdout",
     "output_type": "stream",
     "text": [
      "Import complete.\n"
     ]
    }
   ],
   "source": [
    "from functions import redcap_upload\n",
    "\n",
    "response = redcap_upload(import_df) # note this is ALWAYS to posts"
   ]
  }
 ],
 "metadata": {
  "kernelspec": {
   "display_name": "pdfb",
   "language": "python",
   "name": "python3"
  },
  "language_info": {
   "codemirror_mode": {
    "name": "ipython",
    "version": 3
   },
   "file_extension": ".py",
   "mimetype": "text/x-python",
   "name": "python",
   "nbconvert_exporter": "python",
   "pygments_lexer": "ipython3",
   "version": "3.10.13"
  }
 },
 "nbformat": 4,
 "nbformat_minor": 2
}
