{
 "cells": [
  {
   "cell_type": "markdown",
   "metadata": {},
   "source": [
    "Indicate which posts in Posts REDCap contain keywords in term dictionary."
   ]
  },
  {
   "cell_type": "code",
   "execution_count": null,
   "metadata": {},
   "outputs": [
    {
     "name": "stdout",
     "output_type": "stream",
     "text": [
      "22881\n"
     ]
    }
   ],
   "source": [
    "from constants import posts_token, all_posts\n",
    "from functions import pull_redcap_report, preprocess_terms, remove_stopwords, preprocess_text, search_terms_in_text, redcap_upload\n",
    "import json\n",
    "\n",
    "# Pull all posts from REDCap\n",
    "df = pull_redcap_report(posts_token, all_posts)\n",
    "\n",
    "# Open Term Dictionary\n",
    "with open(\"../term_dictionary/term_dictionary.json\", \"r\") as f:\n",
    "    term_dictionary = json.load(f)\n",
    "\n",
    "\n",
    "term_dictionary = preprocess_terms(term_dictionary, stem = False)\n",
    "preprocessed_term_dictionary = preprocess_terms(term_dictionary, stem = True)\n",
    "\n",
    "# Lowercase df['text'] column\n",
    "df['text'] = df['text'].astype(str).str.lower()\n",
    "\n",
    "# Copy the text column for processing\n",
    "df['text_processed'] = df['text'] \n",
    "\n",
    "# Apply the preprocessing functions\n",
    "df = remove_stopwords(df, 'text_processed')\n",
    "df = preprocess_text(df, 'text_processed')\n",
    "df = search_terms_in_text(df, term_dictionary, preprocessed_term_dictionary)  \n",
    "\n",
    "df = df[['record_id', 'keywords', 'keyword_categories']]\n",
    "df = df[~((df['keywords'].isna() | (df['keywords'] == '')) &\n",
    "          (df['keyword_categories'].isna() | (df['keyword_categories'] == '')))]\n",
    "df['contains_keyword'] = '1'\n",
    "\n",
    "print(len(df))\n",
    "response = redcap_upload(df)"
   ]
  }
 ],
 "metadata": {
  "kernelspec": {
   "display_name": "pdfb",
   "language": "python",
   "name": "python3"
  },
  "language_info": {
   "codemirror_mode": {
    "name": "ipython",
    "version": 3
   },
   "file_extension": ".py",
   "mimetype": "text/x-python",
   "name": "python",
   "nbconvert_exporter": "python",
   "pygments_lexer": "ipython3",
   "version": "3.10.13"
  }
 },
 "nbformat": 4,
 "nbformat_minor": 2
}
