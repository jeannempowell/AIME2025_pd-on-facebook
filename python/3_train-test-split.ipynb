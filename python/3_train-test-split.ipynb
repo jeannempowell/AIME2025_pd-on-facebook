{
 "cells": [
  {
   "cell_type": "code",
   "execution_count": null,
   "metadata": {},
   "outputs": [
    {
     "name": "stdout",
     "output_type": "stream",
     "text": [
      "Total records: 6750\n",
      "Training set: 5400\n",
      "Testing set: 1350\n"
     ]
    }
   ],
   "source": [
    "from constants import posts_token, train_test_data\n",
    "from functions import pull_redcap_report, redcap_upload\n",
    "from sklearn.model_selection import train_test_split\n",
    "\n",
    "df = pull_redcap_report(posts_token, train_test_data)\n",
    "\n",
    "# Set random 80/20 split and denote it in redcap\n",
    "# Split the dataset into training and testing sets\n",
    "train_df, test_df = train_test_split(df, test_size=0.2, random_state=42)\n",
    "\n",
    "# Print the sizes of the splits\n",
    "print(f\"Total records: {len(df)}\")\n",
    "print(f\"Training set: {len(train_df)}\")\n",
    "print(f\"Testing set: {len(test_df)}\")\n",
    "\n",
    "train_df['train_test_split'] = '1'\n",
    "train_df = train_df[['record_id', 'train_test_split']].copy()\n",
    "response = redcap_upload(train_df)\n",
    "\n",
    "test_df['train_test_split'] = '2'\n",
    "test_df = test_df[['record_id', 'train_test_split']].copy()\n",
    "response = redcap_upload(test_df)\n"
   ]
  }
 ],
 "metadata": {
  "kernelspec": {
   "display_name": "pdfb",
   "language": "python",
   "name": "python3"
  },
  "language_info": {
   "codemirror_mode": {
    "name": "ipython",
    "version": 3
   },
   "file_extension": ".py",
   "mimetype": "text/x-python",
   "name": "python",
   "nbconvert_exporter": "python",
   "pygments_lexer": "ipython3",
   "version": "3.10.13"
  }
 },
 "nbformat": 4,
 "nbformat_minor": 2
}
